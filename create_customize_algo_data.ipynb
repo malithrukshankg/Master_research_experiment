{
 "cells": [
  {
   "cell_type": "code",
   "execution_count": 2,
   "id": "90eaffb3-d1d6-414b-bd67-d2e1e22d8d01",
   "metadata": {},
   "outputs": [
    {
     "name": "stdout",
     "output_type": "stream",
     "text": [
      "Processed and saved: per_user_ndcg_scores_algo_1_action.csv\n",
      "Processed and saved: per_user_ndcg_scores_algo_1_adventure.csv\n",
      "Processed and saved: per_user_ndcg_scores_algo_1_animation.csv\n",
      "Processed and saved: per_user_ndcg_scores_algo_1_children's.csv\n",
      "Processed and saved: per_user_ndcg_scores_algo_1_comedy.csv\n",
      "Processed and saved: per_user_ndcg_scores_algo_1_crime.csv\n",
      "Processed and saved: per_user_ndcg_scores_algo_1_documentary.csv\n",
      "Processed and saved: per_user_ndcg_scores_algo_1_drama.csv\n",
      "Processed and saved: per_user_ndcg_scores_algo_1_fantasy.csv\n",
      "Processed and saved: per_user_ndcg_scores_algo_1_film-noir.csv\n",
      "Processed and saved: per_user_ndcg_scores_algo_1_horror.csv\n",
      "Processed and saved: per_user_ndcg_scores_algo_1_musical.csv\n",
      "Processed and saved: per_user_ndcg_scores_algo_1_mystery.csv\n",
      "Processed and saved: per_user_ndcg_scores_algo_1_romance.csv\n",
      "Processed and saved: per_user_ndcg_scores_algo_1_sci-fi.csv\n",
      "Processed and saved: per_user_ndcg_scores_algo_1_thriller.csv\n",
      "Processed and saved: per_user_ndcg_scores_algo_1_war.csv\n",
      "Processed and saved: per_user_ndcg_scores_algo_1_western.csv\n",
      "All files processed successfully!\n"
     ]
    }
   ],
   "source": [
    "import os\n",
    "import pandas as pd\n",
    "import numpy as np\n",
    "\n",
    "# Define the directory containing the CSV files\n",
    "input_directory = os.path.abspath(\"../data/results_top_n_genre/CKE\")\n",
    "output_directory = \"../data/results_top_n_genre/algo_1\"\n",
    "\n",
    "# Ensure the output directory exists\n",
    "os.makedirs(output_directory, exist_ok=True)\n",
    "\n",
    "# Get the list of all CSV files in the input directory\n",
    "csv_files = [f for f in os.listdir(input_directory) if f.endswith(\".csv\")]\n",
    "\n",
    "# Function to apply perturbation to NDCG scores\n",
    "def perturb_ndcg(df):\n",
    "    np.random.seed(42)  # Ensure reproducibility\n",
    "    noise = np.random.uniform(-0.10, 0.10, size=len(df))  # Random noise in [-10%, +10%]\n",
    "    \n",
    "    df[\"ndcg_flipped\"] = df[\"ndcg_correct\"] * (1 + noise)\n",
    "    df[\"ndcg_flipped\"] = df[\"ndcg_flipped\"].clip(0, 1)  # Ensure values remain between 0 and 1\n",
    "    return df\n",
    "\n",
    "# Process each file\n",
    "for file in csv_files:\n",
    "    file_path = os.path.join(input_directory, file)\n",
    "    \n",
    "    # Read the CSV file\n",
    "    df = pd.read_csv(file_path)\n",
    "    \n",
    "    # Apply the perturbation\n",
    "    df = perturb_ndcg(df)\n",
    "    \n",
    "    # Generate the new filename (replace \"cke\" with \"algo_1\")\n",
    "    new_filename = file.replace(\"CKE\", \"algo_1\")\n",
    "    new_file_path = os.path.join(output_directory, new_filename)\n",
    "    \n",
    "    # Save the modified file\n",
    "    df.to_csv(new_file_path, index=False)\n",
    "    \n",
    "    print(f\"Processed and saved: {new_filename}\")\n",
    "\n",
    "print(\"All files processed successfully!\")\n"
   ]
  },
  {
   "cell_type": "code",
   "execution_count": null,
   "id": "8575bd95-7c6d-4cc7-91e5-3ad0dafc5cb2",
   "metadata": {},
   "outputs": [],
   "source": []
  }
 ],
 "metadata": {
  "kernelspec": {
   "display_name": "Python 3 (ipykernel)",
   "language": "python",
   "name": "python3"
  },
  "language_info": {
   "codemirror_mode": {
    "name": "ipython",
    "version": 3
   },
   "file_extension": ".py",
   "mimetype": "text/x-python",
   "name": "python",
   "nbconvert_exporter": "python",
   "pygments_lexer": "ipython3",
   "version": "3.11.7"
  }
 },
 "nbformat": 4,
 "nbformat_minor": 5
}
