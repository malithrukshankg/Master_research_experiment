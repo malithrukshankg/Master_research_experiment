{
 "cells": [
  {
   "cell_type": "code",
   "execution_count": 1,
   "id": "e2df49de-e262-4db8-82a4-2398e9ec1cce",
   "metadata": {},
   "outputs": [
    {
     "name": "stdout",
     "output_type": "stream",
     "text": [
      "\n",
      "Processing genre: action\n",
      "Found 7 CSV files for genre 'action'.\n",
      "Processed D:\\master_reserch\\data\\results_top_n_genre\\algo_1\\per_user_ndcg_scores_algo_1_action.csv, STS array shape: (848,)\n",
      "Processed D:\\master_reserch\\data\\results_top_n_genre\\algo_2\\per_user_ndcg_scores_algo_2_action.csv, STS array shape: (848,)\n",
      "Processed D:\\master_reserch\\data\\results_top_n_genre\\CKE\\per_user_ndcg_scores_CKE_action.csv, STS array shape: (848,)\n",
      "Processed D:\\master_reserch\\data\\results_top_n_genre\\KGAT\\per_user_ndcg_scores_KGAT_action.csv, STS array shape: (848,)\n",
      "Processed D:\\master_reserch\\data\\results_top_n_genre\\KGCN\\per_user_ndcg_scores_KGCN_action.csv, STS array shape: (848,)\n",
      "Processed D:\\master_reserch\\data\\results_top_n_genre\\KGIN\\per_user_ndcg_scores_KGIN_action.csv, STS array shape: (848,)\n",
      "Processed D:\\master_reserch\\data\\results_top_n_genre\\NCFKG\\per_user_ndcg_scores_NCFKG_action.csv, STS array shape: (848,)\n",
      "Final STS matrix shape for 'action': (848, 7)\n",
      "Fitting Beta3 model for 'action'...\n"
     ]
    },
    {
     "name": "stderr",
     "output_type": "stream",
     "text": [
      "C:\\Users\\DELL\\AppData\\Local\\Temp\\ipykernel_13504\\2050681698.py:97: FutureWarning: The default dtype for empty Series will be 'object' instead of 'float64' in a future version. Specify a dtype explicitly to silence this warning.\n",
      "  user_ids_array = pd.Series()\n"
     ]
    },
    {
     "name": "stdout",
     "output_type": "stream",
     "text": [
      "Model fitting complete for 'action'.\n",
      "Final loss for 'action': 0.06471775920769779\n",
      "✅ Processed 'action': Plot saved at D:\\master_reserch\\data\\plots\\discrimination_difficulty_plot_action.png, Data saved at D:\\master_reserch\\data\\genre_user_info\\genre_user_info_merged_action.csv\n",
      "\n",
      "Processing genre: adventure\n",
      "Found 7 CSV files for genre 'adventure'.\n",
      "Processed D:\\master_reserch\\data\\results_top_n_genre\\algo_1\\per_user_ndcg_scores_algo_1_adventure.csv, STS array shape: (668,)\n",
      "Processed D:\\master_reserch\\data\\results_top_n_genre\\algo_2\\per_user_ndcg_scores_algo_2_adventure.csv, STS array shape: (668,)\n",
      "Processed D:\\master_reserch\\data\\results_top_n_genre\\CKE\\per_user_ndcg_scores_CKE_adventure.csv, STS array shape: (668,)\n",
      "Processed D:\\master_reserch\\data\\results_top_n_genre\\KGAT\\per_user_ndcg_scores_KGAT_adventure.csv, STS array shape: (668,)\n",
      "Processed D:\\master_reserch\\data\\results_top_n_genre\\KGCN\\per_user_ndcg_scores_KGCN_adventure.csv, STS array shape: (668,)\n",
      "Processed D:\\master_reserch\\data\\results_top_n_genre\\KGIN\\per_user_ndcg_scores_KGIN_adventure.csv, STS array shape: (668,)\n",
      "Processed D:\\master_reserch\\data\\results_top_n_genre\\NCFKG\\per_user_ndcg_scores_NCFKG_adventure.csv, STS array shape: (668,)\n",
      "Final STS matrix shape for 'adventure': (668, 7)\n",
      "Fitting Beta3 model for 'adventure'...\n"
     ]
    },
    {
     "name": "stderr",
     "output_type": "stream",
     "text": [
      "C:\\Users\\DELL\\AppData\\Local\\Temp\\ipykernel_13504\\2050681698.py:97: FutureWarning: The default dtype for empty Series will be 'object' instead of 'float64' in a future version. Specify a dtype explicitly to silence this warning.\n",
      "  user_ids_array = pd.Series()\n"
     ]
    },
    {
     "name": "stdout",
     "output_type": "stream",
     "text": [
      "Model fitting complete for 'adventure'.\n",
      "Final loss for 'adventure': 0.045135121450249255\n",
      "✅ Processed 'adventure': Plot saved at D:\\master_reserch\\data\\plots\\discrimination_difficulty_plot_adventure.png, Data saved at D:\\master_reserch\\data\\genre_user_info\\genre_user_info_merged_adventure.csv\n",
      "\n",
      "Processing genre: animation\n",
      "Found 7 CSV files for genre 'animation'.\n",
      "Processed D:\\master_reserch\\data\\results_top_n_genre\\algo_1\\per_user_ndcg_scores_algo_1_animation.csv, STS array shape: (349,)\n",
      "Processed D:\\master_reserch\\data\\results_top_n_genre\\algo_2\\per_user_ndcg_scores_algo_2_animation.csv, STS array shape: (349,)\n",
      "Processed D:\\master_reserch\\data\\results_top_n_genre\\CKE\\per_user_ndcg_scores_CKE_animation.csv, STS array shape: (349,)\n",
      "Processed D:\\master_reserch\\data\\results_top_n_genre\\KGAT\\per_user_ndcg_scores_KGAT_animation.csv, STS array shape: (349,)\n",
      "Processed D:\\master_reserch\\data\\results_top_n_genre\\KGCN\\per_user_ndcg_scores_KGCN_animation.csv, STS array shape: (349,)\n",
      "Processed D:\\master_reserch\\data\\results_top_n_genre\\KGIN\\per_user_ndcg_scores_KGIN_animation.csv, STS array shape: (349,)\n",
      "Processed D:\\master_reserch\\data\\results_top_n_genre\\NCFKG\\per_user_ndcg_scores_NCFKG_animation.csv, STS array shape: (349,)\n",
      "Final STS matrix shape for 'animation': (349, 7)\n",
      "Fitting Beta3 model for 'animation'...\n"
     ]
    },
    {
     "name": "stderr",
     "output_type": "stream",
     "text": [
      "C:\\Users\\DELL\\AppData\\Local\\Temp\\ipykernel_13504\\2050681698.py:97: FutureWarning: The default dtype for empty Series will be 'object' instead of 'float64' in a future version. Specify a dtype explicitly to silence this warning.\n",
      "  user_ids_array = pd.Series()\n"
     ]
    },
    {
     "name": "stdout",
     "output_type": "stream",
     "text": [
      "Model fitting complete for 'animation'.\n",
      "Final loss for 'animation': 0.03581074391140693\n",
      "✅ Processed 'animation': Plot saved at D:\\master_reserch\\data\\plots\\discrimination_difficulty_plot_animation.png, Data saved at D:\\master_reserch\\data\\genre_user_info\\genre_user_info_merged_animation.csv\n",
      "\n",
      "Processing genre: comedy\n",
      "Found 7 CSV files for genre 'comedy'.\n",
      "Processed D:\\master_reserch\\data\\results_top_n_genre\\algo_1\\per_user_ndcg_scores_algo_1_comedy.csv, STS array shape: (838,)\n",
      "Processed D:\\master_reserch\\data\\results_top_n_genre\\algo_2\\per_user_ndcg_scores_algo_2_comedy.csv, STS array shape: (838,)\n",
      "Processed D:\\master_reserch\\data\\results_top_n_genre\\CKE\\per_user_ndcg_scores_CKE_comedy.csv, STS array shape: (838,)\n",
      "Processed D:\\master_reserch\\data\\results_top_n_genre\\KGAT\\per_user_ndcg_scores_KGAT_comedy.csv, STS array shape: (838,)\n",
      "Processed D:\\master_reserch\\data\\results_top_n_genre\\KGCN\\per_user_ndcg_scores_KGCN_comedy.csv, STS array shape: (838,)\n",
      "Processed D:\\master_reserch\\data\\results_top_n_genre\\KGIN\\per_user_ndcg_scores_KGIN_comedy.csv, STS array shape: (838,)\n",
      "Processed D:\\master_reserch\\data\\results_top_n_genre\\NCFKG\\per_user_ndcg_scores_NCFKG_comedy.csv, STS array shape: (838,)\n",
      "Final STS matrix shape for 'comedy': (838, 7)\n",
      "Fitting Beta3 model for 'comedy'...\n"
     ]
    },
    {
     "name": "stderr",
     "output_type": "stream",
     "text": [
      "C:\\Users\\DELL\\AppData\\Local\\Temp\\ipykernel_13504\\2050681698.py:97: FutureWarning: The default dtype for empty Series will be 'object' instead of 'float64' in a future version. Specify a dtype explicitly to silence this warning.\n",
      "  user_ids_array = pd.Series()\n"
     ]
    },
    {
     "name": "stdout",
     "output_type": "stream",
     "text": [
      "Model fitting complete for 'comedy'.\n",
      "Final loss for 'comedy': 0.06639934062669631\n",
      "✅ Processed 'comedy': Plot saved at D:\\master_reserch\\data\\plots\\discrimination_difficulty_plot_comedy.png, Data saved at D:\\master_reserch\\data\\genre_user_info\\genre_user_info_merged_comedy.csv\n",
      "\n",
      "Processing genre: crime\n",
      "Found 7 CSV files for genre 'crime'.\n",
      "Processed D:\\master_reserch\\data\\results_top_n_genre\\algo_1\\per_user_ndcg_scores_algo_1_crime.csv, STS array shape: (638,)\n",
      "Processed D:\\master_reserch\\data\\results_top_n_genre\\algo_2\\per_user_ndcg_scores_algo_2_crime.csv, STS array shape: (638,)\n",
      "Processed D:\\master_reserch\\data\\results_top_n_genre\\CKE\\per_user_ndcg_scores_CKE_crime.csv, STS array shape: (638,)\n",
      "Processed D:\\master_reserch\\data\\results_top_n_genre\\KGAT\\per_user_ndcg_scores_KGAT_crime.csv, STS array shape: (638,)\n"
     ]
    },
    {
     "name": "stderr",
     "output_type": "stream",
     "text": [
      "C:\\Users\\DELL\\AppData\\Local\\Temp\\ipykernel_13504\\2050681698.py:97: FutureWarning: The default dtype for empty Series will be 'object' instead of 'float64' in a future version. Specify a dtype explicitly to silence this warning.\n",
      "  user_ids_array = pd.Series()\n"
     ]
    },
    {
     "name": "stdout",
     "output_type": "stream",
     "text": [
      "Processed D:\\master_reserch\\data\\results_top_n_genre\\KGCN\\per_user_ndcg_scores_KGCN_crime.csv, STS array shape: (638,)\n",
      "Processed D:\\master_reserch\\data\\results_top_n_genre\\KGIN\\per_user_ndcg_scores_KGIN_crime.csv, STS array shape: (638,)\n",
      "Processed D:\\master_reserch\\data\\results_top_n_genre\\NCFKG\\per_user_ndcg_scores_NCFKG_crime.csv, STS array shape: (638,)\n",
      "Final STS matrix shape for 'crime': (638, 7)\n",
      "Fitting Beta3 model for 'crime'...\n",
      "Model fitting complete for 'crime'.\n",
      "Final loss for 'crime': 0.04295028396822956\n",
      "✅ Processed 'crime': Plot saved at D:\\master_reserch\\data\\plots\\discrimination_difficulty_plot_crime.png, Data saved at D:\\master_reserch\\data\\genre_user_info\\genre_user_info_merged_crime.csv\n",
      "\n",
      "Processing genre: documentary\n",
      "Found 7 CSV files for genre 'documentary'.\n",
      "Processed D:\\master_reserch\\data\\results_top_n_genre\\algo_1\\per_user_ndcg_scores_algo_1_documentary.csv, STS array shape: (103,)\n",
      "Processed D:\\master_reserch\\data\\results_top_n_genre\\algo_2\\per_user_ndcg_scores_algo_2_documentary.csv, STS array shape: (103,)\n",
      "Processed D:\\master_reserch\\data\\results_top_n_genre\\CKE\\per_user_ndcg_scores_CKE_documentary.csv, STS array shape: (103,)\n",
      "Processed D:\\master_reserch\\data\\results_top_n_genre\\KGAT\\per_user_ndcg_scores_KGAT_documentary.csv, STS array shape: (103,)\n",
      "Processed D:\\master_reserch\\data\\results_top_n_genre\\KGCN\\per_user_ndcg_scores_KGCN_documentary.csv, STS array shape: (103,)\n",
      "Processed D:\\master_reserch\\data\\results_top_n_genre\\KGIN\\per_user_ndcg_scores_KGIN_documentary.csv, STS array shape: (103,)\n"
     ]
    },
    {
     "name": "stderr",
     "output_type": "stream",
     "text": [
      "C:\\Users\\DELL\\AppData\\Local\\Temp\\ipykernel_13504\\2050681698.py:97: FutureWarning: The default dtype for empty Series will be 'object' instead of 'float64' in a future version. Specify a dtype explicitly to silence this warning.\n",
      "  user_ids_array = pd.Series()\n"
     ]
    },
    {
     "name": "stdout",
     "output_type": "stream",
     "text": [
      "Processed D:\\master_reserch\\data\\results_top_n_genre\\NCFKG\\per_user_ndcg_scores_NCFKG_documentary.csv, STS array shape: (103,)\n",
      "Final STS matrix shape for 'documentary': (103, 7)\n",
      "Fitting Beta3 model for 'documentary'...\n",
      "Model fitting complete for 'documentary'.\n",
      "Final loss for 'documentary': 0.010312886945141053\n",
      "✅ Processed 'documentary': Plot saved at D:\\master_reserch\\data\\plots\\discrimination_difficulty_plot_documentary.png, Data saved at D:\\master_reserch\\data\\genre_user_info\\genre_user_info_merged_documentary.csv\n",
      "\n",
      "Processing genre: drama\n",
      "Found 7 CSV files for genre 'drama'.\n",
      "Processed D:\\master_reserch\\data\\results_top_n_genre\\algo_1\\per_user_ndcg_scores_algo_1_drama.csv, STS array shape: (905,)\n",
      "Processed D:\\master_reserch\\data\\results_top_n_genre\\algo_2\\per_user_ndcg_scores_algo_2_drama.csv, STS array shape: (905,)\n",
      "Processed D:\\master_reserch\\data\\results_top_n_genre\\CKE\\per_user_ndcg_scores_CKE_drama.csv, STS array shape: (905,)\n",
      "Processed D:\\master_reserch\\data\\results_top_n_genre\\KGAT\\per_user_ndcg_scores_KGAT_drama.csv, STS array shape: (905,)\n"
     ]
    },
    {
     "name": "stderr",
     "output_type": "stream",
     "text": [
      "C:\\Users\\DELL\\AppData\\Local\\Temp\\ipykernel_13504\\2050681698.py:97: FutureWarning: The default dtype for empty Series will be 'object' instead of 'float64' in a future version. Specify a dtype explicitly to silence this warning.\n",
      "  user_ids_array = pd.Series()\n"
     ]
    },
    {
     "name": "stdout",
     "output_type": "stream",
     "text": [
      "Processed D:\\master_reserch\\data\\results_top_n_genre\\KGCN\\per_user_ndcg_scores_KGCN_drama.csv, STS array shape: (905,)\n",
      "Processed D:\\master_reserch\\data\\results_top_n_genre\\KGIN\\per_user_ndcg_scores_KGIN_drama.csv, STS array shape: (905,)\n",
      "Processed D:\\master_reserch\\data\\results_top_n_genre\\NCFKG\\per_user_ndcg_scores_NCFKG_drama.csv, STS array shape: (905,)\n",
      "Final STS matrix shape for 'drama': (905, 7)\n",
      "Fitting Beta3 model for 'drama'...\n",
      "Model fitting complete for 'drama'.\n",
      "Final loss for 'drama': 0.0708980796298339\n",
      "✅ Processed 'drama': Plot saved at D:\\master_reserch\\data\\plots\\discrimination_difficulty_plot_drama.png, Data saved at D:\\master_reserch\\data\\genre_user_info\\genre_user_info_merged_drama.csv\n",
      "\n",
      "Processing genre: family\n",
      "⚠️ No CSV files found for genre 'family', skipping...\n",
      "\n",
      "Processing genre: fantasy\n",
      "Found 7 CSV files for genre 'fantasy'.\n",
      "Processed D:\\master_reserch\\data\\results_top_n_genre\\algo_1\\per_user_ndcg_scores_algo_1_fantasy.csv, STS array shape: (180,)\n",
      "Processed D:\\master_reserch\\data\\results_top_n_genre\\algo_2\\per_user_ndcg_scores_algo_2_fantasy.csv, STS array shape: (180,)\n",
      "Processed D:\\master_reserch\\data\\results_top_n_genre\\CKE\\per_user_ndcg_scores_CKE_fantasy.csv, STS array shape: (180,)\n",
      "Processed D:\\master_reserch\\data\\results_top_n_genre\\KGAT\\per_user_ndcg_scores_KGAT_fantasy.csv, STS array shape: (180,)\n",
      "Processed D:\\master_reserch\\data\\results_top_n_genre\\KGCN\\per_user_ndcg_scores_KGCN_fantasy.csv, STS array shape: (180,)\n",
      "Processed D:\\master_reserch\\data\\results_top_n_genre\\KGIN\\per_user_ndcg_scores_KGIN_fantasy.csv, STS array shape: (180,)\n"
     ]
    },
    {
     "name": "stderr",
     "output_type": "stream",
     "text": [
      "C:\\Users\\DELL\\AppData\\Local\\Temp\\ipykernel_13504\\2050681698.py:97: FutureWarning: The default dtype for empty Series will be 'object' instead of 'float64' in a future version. Specify a dtype explicitly to silence this warning.\n",
      "  user_ids_array = pd.Series()\n"
     ]
    },
    {
     "name": "stdout",
     "output_type": "stream",
     "text": [
      "Processed D:\\master_reserch\\data\\results_top_n_genre\\NCFKG\\per_user_ndcg_scores_NCFKG_fantasy.csv, STS array shape: (180,)\n",
      "Final STS matrix shape for 'fantasy': (180, 7)\n",
      "Fitting Beta3 model for 'fantasy'...\n",
      "Model fitting complete for 'fantasy'.\n",
      "Final loss for 'fantasy': 0.008922773091901582\n",
      "✅ Processed 'fantasy': Plot saved at D:\\master_reserch\\data\\plots\\discrimination_difficulty_plot_fantasy.png, Data saved at D:\\master_reserch\\data\\genre_user_info\\genre_user_info_merged_fantasy.csv\n",
      "\n",
      "Processing genre: history\n",
      "⚠️ No CSV files found for genre 'history', skipping...\n",
      "\n",
      "Processing genre: horror\n",
      "Found 7 CSV files for genre 'horror'.\n"
     ]
    },
    {
     "name": "stderr",
     "output_type": "stream",
     "text": [
      "C:\\Users\\DELL\\AppData\\Local\\Temp\\ipykernel_13504\\2050681698.py:97: FutureWarning: The default dtype for empty Series will be 'object' instead of 'float64' in a future version. Specify a dtype explicitly to silence this warning.\n",
      "  user_ids_array = pd.Series()\n"
     ]
    },
    {
     "name": "stdout",
     "output_type": "stream",
     "text": [
      "Processed D:\\master_reserch\\data\\results_top_n_genre\\algo_1\\per_user_ndcg_scores_algo_1_horror.csv, STS array shape: (442,)\n",
      "Processed D:\\master_reserch\\data\\results_top_n_genre\\algo_2\\per_user_ndcg_scores_algo_2_horror.csv, STS array shape: (442,)\n",
      "Processed D:\\master_reserch\\data\\results_top_n_genre\\CKE\\per_user_ndcg_scores_CKE_horror.csv, STS array shape: (442,)\n",
      "Processed D:\\master_reserch\\data\\results_top_n_genre\\KGAT\\per_user_ndcg_scores_KGAT_horror.csv, STS array shape: (442,)\n",
      "Processed D:\\master_reserch\\data\\results_top_n_genre\\KGCN\\per_user_ndcg_scores_KGCN_horror.csv, STS array shape: (442,)\n",
      "Processed D:\\master_reserch\\data\\results_top_n_genre\\KGIN\\per_user_ndcg_scores_KGIN_horror.csv, STS array shape: (442,)\n",
      "Processed D:\\master_reserch\\data\\results_top_n_genre\\NCFKG\\per_user_ndcg_scores_NCFKG_horror.csv, STS array shape: (442,)\n",
      "Final STS matrix shape for 'horror': (442, 7)\n",
      "Fitting Beta3 model for 'horror'...\n",
      "Model fitting complete for 'horror'.\n",
      "Final loss for 'horror': 0.03236487452936175\n",
      "✅ Processed 'horror': Plot saved at D:\\master_reserch\\data\\plots\\discrimination_difficulty_plot_horror.png, Data saved at D:\\master_reserch\\data\\genre_user_info\\genre_user_info_merged_horror.csv\n",
      "\n",
      "Processing genre: music\n",
      "⚠️ No CSV files found for genre 'music', skipping...\n",
      "\n",
      "Processing genre: mystery\n",
      "Found 7 CSV files for genre 'mystery'.\n",
      "Processed D:\\master_reserch\\data\\results_top_n_genre\\algo_1\\per_user_ndcg_scores_algo_1_mystery.csv, STS array shape: (558,)\n",
      "Processed D:\\master_reserch\\data\\results_top_n_genre\\algo_2\\per_user_ndcg_scores_algo_2_mystery.csv, STS array shape: (558,)\n",
      "Processed D:\\master_reserch\\data\\results_top_n_genre\\CKE\\per_user_ndcg_scores_CKE_mystery.csv, STS array shape: (558,)\n",
      "Processed D:\\master_reserch\\data\\results_top_n_genre\\KGAT\\per_user_ndcg_scores_KGAT_mystery.csv, STS array shape: (558,)\n",
      "Processed D:\\master_reserch\\data\\results_top_n_genre\\KGCN\\per_user_ndcg_scores_KGCN_mystery.csv, STS array shape: (558,)\n",
      "Processed D:\\master_reserch\\data\\results_top_n_genre\\KGIN\\per_user_ndcg_scores_KGIN_mystery.csv, STS array shape: (558,)\n"
     ]
    },
    {
     "name": "stderr",
     "output_type": "stream",
     "text": [
      "C:\\Users\\DELL\\AppData\\Local\\Temp\\ipykernel_13504\\2050681698.py:97: FutureWarning: The default dtype for empty Series will be 'object' instead of 'float64' in a future version. Specify a dtype explicitly to silence this warning.\n",
      "  user_ids_array = pd.Series()\n"
     ]
    },
    {
     "name": "stdout",
     "output_type": "stream",
     "text": [
      "Processed D:\\master_reserch\\data\\results_top_n_genre\\NCFKG\\per_user_ndcg_scores_NCFKG_mystery.csv, STS array shape: (558,)\n",
      "Final STS matrix shape for 'mystery': (558, 7)\n",
      "Fitting Beta3 model for 'mystery'...\n",
      "Model fitting complete for 'mystery'.\n",
      "Final loss for 'mystery': 0.036103206966506395\n",
      "✅ Processed 'mystery': Plot saved at D:\\master_reserch\\data\\plots\\discrimination_difficulty_plot_mystery.png, Data saved at D:\\master_reserch\\data\\genre_user_info\\genre_user_info_merged_mystery.csv\n",
      "\n",
      "Processing genre: romance\n",
      "Found 7 CSV files for genre 'romance'.\n",
      "Processed D:\\master_reserch\\data\\results_top_n_genre\\algo_1\\per_user_ndcg_scores_algo_1_romance.csv, STS array shape: (825,)\n",
      "Processed D:\\master_reserch\\data\\results_top_n_genre\\algo_2\\per_user_ndcg_scores_algo_2_romance.csv, STS array shape: (825,)\n",
      "Processed D:\\master_reserch\\data\\results_top_n_genre\\CKE\\per_user_ndcg_scores_CKE_romance.csv, STS array shape: (825,)\n",
      "Processed D:\\master_reserch\\data\\results_top_n_genre\\KGAT\\per_user_ndcg_scores_KGAT_romance.csv, STS array shape: (825,)\n",
      "Processed D:\\master_reserch\\data\\results_top_n_genre\\KGCN\\per_user_ndcg_scores_KGCN_romance.csv, STS array shape: (825,)\n",
      "Processed D:\\master_reserch\\data\\results_top_n_genre\\KGIN\\per_user_ndcg_scores_KGIN_romance.csv, STS array shape: (825,)\n",
      "Processed D:\\master_reserch\\data\\results_top_n_genre\\NCFKG\\per_user_ndcg_scores_NCFKG_romance.csv, STS array shape: (825,)\n",
      "Final STS matrix shape for 'romance': (825, 7)\n",
      "Fitting Beta3 model for 'romance'...\n"
     ]
    },
    {
     "name": "stderr",
     "output_type": "stream",
     "text": [
      "C:\\Users\\DELL\\AppData\\Local\\Temp\\ipykernel_13504\\2050681698.py:97: FutureWarning: The default dtype for empty Series will be 'object' instead of 'float64' in a future version. Specify a dtype explicitly to silence this warning.\n",
      "  user_ids_array = pd.Series()\n"
     ]
    },
    {
     "name": "stdout",
     "output_type": "stream",
     "text": [
      "Model fitting complete for 'romance'.\n",
      "Final loss for 'romance': 0.059593895072503976\n",
      "✅ Processed 'romance': Plot saved at D:\\master_reserch\\data\\plots\\discrimination_difficulty_plot_romance.png, Data saved at D:\\master_reserch\\data\\genre_user_info\\genre_user_info_merged_romance.csv\n",
      "\n",
      "Processing genre: science_fiction\n",
      "⚠️ No CSV files found for genre 'science_fiction', skipping...\n",
      "\n",
      "Processing genre: thriller\n",
      "Found 7 CSV files for genre 'thriller'.\n",
      "Processed D:\\master_reserch\\data\\results_top_n_genre\\algo_1\\per_user_ndcg_scores_algo_1_thriller.csv, STS array shape: (841,)\n",
      "Processed D:\\master_reserch\\data\\results_top_n_genre\\algo_2\\per_user_ndcg_scores_algo_2_thriller.csv, STS array shape: (841,)\n",
      "Processed D:\\master_reserch\\data\\results_top_n_genre\\CKE\\per_user_ndcg_scores_CKE_thriller.csv, STS array shape: (841,)\n",
      "Processed D:\\master_reserch\\data\\results_top_n_genre\\KGAT\\per_user_ndcg_scores_KGAT_thriller.csv, STS array shape: (841,)\n",
      "Processed D:\\master_reserch\\data\\results_top_n_genre\\KGCN\\per_user_ndcg_scores_KGCN_thriller.csv, STS array shape: (841,)\n",
      "Processed D:\\master_reserch\\data\\results_top_n_genre\\KGIN\\per_user_ndcg_scores_KGIN_thriller.csv, STS array shape: (841,)\n",
      "Processed D:\\master_reserch\\data\\results_top_n_genre\\NCFKG\\per_user_ndcg_scores_NCFKG_thriller.csv, STS array shape: (841,)\n",
      "Final STS matrix shape for 'thriller': (841, 7)\n",
      "Fitting Beta3 model for 'thriller'...\n"
     ]
    },
    {
     "name": "stderr",
     "output_type": "stream",
     "text": [
      "C:\\Users\\DELL\\AppData\\Local\\Temp\\ipykernel_13504\\2050681698.py:97: FutureWarning: The default dtype for empty Series will be 'object' instead of 'float64' in a future version. Specify a dtype explicitly to silence this warning.\n",
      "  user_ids_array = pd.Series()\n"
     ]
    },
    {
     "name": "stdout",
     "output_type": "stream",
     "text": [
      "Model fitting complete for 'thriller'.\n",
      "Final loss for 'thriller': 0.05973003463759321\n",
      "✅ Processed 'thriller': Plot saved at D:\\master_reserch\\data\\plots\\discrimination_difficulty_plot_thriller.png, Data saved at D:\\master_reserch\\data\\genre_user_info\\genre_user_info_merged_thriller.csv\n",
      "\n",
      "Processing genre: war\n",
      "Found 7 CSV files for genre 'war'.\n",
      "Processed D:\\master_reserch\\data\\results_top_n_genre\\algo_1\\per_user_ndcg_scores_algo_1_war.csv, STS array shape: (690,)\n",
      "Processed D:\\master_reserch\\data\\results_top_n_genre\\algo_2\\per_user_ndcg_scores_algo_2_war.csv, STS array shape: (690,)\n",
      "Processed D:\\master_reserch\\data\\results_top_n_genre\\CKE\\per_user_ndcg_scores_CKE_war.csv, STS array shape: (690,)\n",
      "Processed D:\\master_reserch\\data\\results_top_n_genre\\KGAT\\per_user_ndcg_scores_KGAT_war.csv, STS array shape: (690,)\n",
      "Processed D:\\master_reserch\\data\\results_top_n_genre\\KGCN\\per_user_ndcg_scores_KGCN_war.csv, STS array shape: (690,)\n"
     ]
    },
    {
     "name": "stderr",
     "output_type": "stream",
     "text": [
      "C:\\Users\\DELL\\AppData\\Local\\Temp\\ipykernel_13504\\2050681698.py:97: FutureWarning: The default dtype for empty Series will be 'object' instead of 'float64' in a future version. Specify a dtype explicitly to silence this warning.\n",
      "  user_ids_array = pd.Series()\n"
     ]
    },
    {
     "name": "stdout",
     "output_type": "stream",
     "text": [
      "Processed D:\\master_reserch\\data\\results_top_n_genre\\KGIN\\per_user_ndcg_scores_KGIN_war.csv, STS array shape: (690,)\n",
      "Processed D:\\master_reserch\\data\\results_top_n_genre\\NCFKG\\per_user_ndcg_scores_NCFKG_war.csv, STS array shape: (690,)\n",
      "Final STS matrix shape for 'war': (690, 7)\n",
      "Fitting Beta3 model for 'war'...\n",
      "Model fitting complete for 'war'.\n",
      "Final loss for 'war': 0.04723570540459816\n",
      "✅ Processed 'war': Plot saved at D:\\master_reserch\\data\\plots\\discrimination_difficulty_plot_war.png, Data saved at D:\\master_reserch\\data\\genre_user_info\\genre_user_info_merged_war.csv\n",
      "\n",
      "Processing genre: western\n",
      "Found 7 CSV files for genre 'western'.\n",
      "Processed D:\\master_reserch\\data\\results_top_n_genre\\algo_1\\per_user_ndcg_scores_algo_1_western.csv, STS array shape: (240,)\n",
      "Processed D:\\master_reserch\\data\\results_top_n_genre\\algo_2\\per_user_ndcg_scores_algo_2_western.csv, STS array shape: (240,)\n",
      "Processed D:\\master_reserch\\data\\results_top_n_genre\\CKE\\per_user_ndcg_scores_CKE_western.csv, STS array shape: (240,)\n",
      "Processed D:\\master_reserch\\data\\results_top_n_genre\\KGAT\\per_user_ndcg_scores_KGAT_western.csv, STS array shape: (240,)\n"
     ]
    },
    {
     "name": "stderr",
     "output_type": "stream",
     "text": [
      "C:\\Users\\DELL\\AppData\\Local\\Temp\\ipykernel_13504\\2050681698.py:97: FutureWarning: The default dtype for empty Series will be 'object' instead of 'float64' in a future version. Specify a dtype explicitly to silence this warning.\n",
      "  user_ids_array = pd.Series()\n"
     ]
    },
    {
     "name": "stdout",
     "output_type": "stream",
     "text": [
      "Processed D:\\master_reserch\\data\\results_top_n_genre\\KGCN\\per_user_ndcg_scores_KGCN_western.csv, STS array shape: (240,)\n",
      "Processed D:\\master_reserch\\data\\results_top_n_genre\\KGIN\\per_user_ndcg_scores_KGIN_western.csv, STS array shape: (240,)\n",
      "Processed D:\\master_reserch\\data\\results_top_n_genre\\NCFKG\\per_user_ndcg_scores_NCFKG_western.csv, STS array shape: (240,)\n",
      "Final STS matrix shape for 'western': (240, 7)\n",
      "Fitting Beta3 model for 'western'...\n",
      "Model fitting complete for 'western'.\n",
      "Final loss for 'western': 0.03201718424751159\n",
      "✅ Processed 'western': Plot saved at D:\\master_reserch\\data\\plots\\discrimination_difficulty_plot_western.png, Data saved at D:\\master_reserch\\data\\genre_user_info\\genre_user_info_merged_western.csv\n",
      "\n",
      "🎉 All genres processed successfully!\n"
     ]
    }
   ],
   "source": [
    "import os\n",
    "import glob\n",
    "import pandas as pd\n",
    "import numpy as np\n",
    "import torch\n",
    "import matplotlib.pyplot as plt\n",
    "from irt import Beta3\n",
    "\n",
    "# ------------------ 1) Configuration ------------------\n",
    "# List of all genres to process\n",
    "genres = [\n",
    "    \"action\", \"adventure\", \"animation\", \"comedy\", \"crime\", \"documentary\",\n",
    "    \"drama\", \"family\", \"fantasy\", \"history\", \"horror\", \"music\", \"mystery\",\n",
    "    \"romance\", \"science_fiction\", \"thriller\", \"war\", \"western\"\n",
    "]\n",
    "\n",
    "# Base directory containing subfolders (one per algorithm)\n",
    "base_dir = os.path.abspath(\"../data/results_top_n_genre\")\n",
    "\n",
    "# Create directories for saving outputs\n",
    "output_plot_dir = os.path.abspath(\"../data/plots\")\n",
    "output_csv_dir = os.path.abspath(\"../data/genre_user_info\")\n",
    "output_ability_dir = os.path.abspath(\"../data/abilityies\")\n",
    "os.makedirs(output_plot_dir, exist_ok=True)\n",
    "os.makedirs(output_csv_dir, exist_ok=True)\n",
    "os.makedirs(output_ability_dir, exist_ok=True)\n",
    "\n",
    "# ------------------ 2) Function Definitions ------------------\n",
    "def compute_sts_matrix_from_csv(csv_path):\n",
    "    \"\"\"\n",
    "    Reads a CSV file containing columns:\n",
    "      - ndcg_correct\n",
    "      - ndcg_flipped\n",
    "    Computes and returns the STS array using:\n",
    "      STS = 1 - abs(ndcg_correct - ndcg_flipped)\n",
    "    \"\"\"\n",
    "    df = pd.read_csv(csv_path)\n",
    "    \n",
    "    # Convert NDCG scores to torch tensors\n",
    "    ndcg_correct = torch.tensor(df[\"ndcg_correct\"].values, dtype=torch.float32)\n",
    "    ndcg_flipped = torch.tensor(df[\"ndcg_flipped\"].values, dtype=torch.float32)\n",
    "\n",
    "    user_ids_array = df[\"user_id\"]\n",
    "    \n",
    "    # Compute STS: 1 - abs(ndcg_correct - ndcg_flipped)\n",
    "    sts_array = 1 - 10 * torch.abs(ndcg_correct - ndcg_flipped)\n",
    "    \n",
    "    return sts_array.numpy(), user_ids_array  # Return as a NumPy array\n",
    "\n",
    "\n",
    "def loss_function(b4, df_matrix):\n",
    "    \"\"\"\n",
    "    Simple loss: mean absolute difference between the predicted P(i,j)\n",
    "    and the actual STS value in df_matrix.\n",
    "    \"\"\"\n",
    "    loss_list = []\n",
    "    for i in range(df_matrix.shape[0]):  # items/users\n",
    "        for j in range(df_matrix.shape[1]):  # respondents/models\n",
    "            pij_predicted = ICC_function(\n",
    "                b4.abilities[j],        # ability of respondent/model j\n",
    "                b4.difficulties[i],     # difficulty of item/user i\n",
    "                b4.discriminations[i]   # discrimination of item/user i\n",
    "            )\n",
    "            # Compare to STS value\n",
    "            res = abs(pij_predicted - df_matrix.iloc[i, j])\n",
    "            loss_list.append(res)\n",
    "    return np.mean(loss_list)\n",
    "\n",
    "\n",
    "def ICC_function(abilities, difficulties, discriminations):\n",
    "    \"\"\"\n",
    "    The specific item characteristic curve (ICC) function used by Beta3.\n",
    "    \"\"\"\n",
    "    a = (1 - abilities) / abilities\n",
    "    b = difficulties / (1 - difficulties)\n",
    "    c = a * b\n",
    "    d = c ** discriminations\n",
    "    return 1 / (d + 1)\n",
    "\n",
    "\n",
    "# ------------------ 3) Process Each Genre ------------------\n",
    "for target_genre in genres:\n",
    "    print(f\"\\nProcessing genre: {target_genre}\")\n",
    "\n",
    "    # ------------------ 4) Build the File Pattern ------------------\n",
    "    pattern = os.path.join(base_dir, \"*\", f\"per_user_ndcg_scores_*_{target_genre.lower()}.csv\")\n",
    "    csv_files = glob.glob(pattern)\n",
    "\n",
    "    if not csv_files:\n",
    "        print(f\"⚠️ No CSV files found for genre '{target_genre}', skipping...\")\n",
    "        continue\n",
    "\n",
    "    print(f\"Found {len(csv_files)} CSV files for genre '{target_genre}'.\")\n",
    "\n",
    "    # ------------------ 5) Compute STS from CSV ------------------\n",
    "    list_of_sts_arrays = []\n",
    "    user_ids_array = pd.Series()\n",
    "\n",
    "    for csv_file in csv_files:\n",
    "        sts_array, user_ids_array_prev = compute_sts_matrix_from_csv(csv_file)\n",
    "\n",
    "        if user_ids_array.empty:\n",
    "            user_ids_array = user_ids_array_prev\n",
    "        elif not user_ids_array.equals(user_ids_array_prev):\n",
    "            raise ValueError(f\"User ID mismatch in {csv_file}\")\n",
    "\n",
    "        list_of_sts_arrays.append(sts_array)\n",
    "        print(f\"Processed {csv_file}, STS array shape: {sts_array.shape}\")\n",
    "\n",
    "    # ------------------ 6) Combine STS Arrays into One Matrix ------------------\n",
    "    final_matrix = np.vstack(list_of_sts_arrays).T  # shape: (num_users, num_models)\n",
    "    print(f\"Final STS matrix shape for '{target_genre}': {final_matrix.shape}\")\n",
    "\n",
    "    normalized_df = pd.DataFrame(final_matrix)\n",
    "\n",
    "    # ------------------ 7) Beta3 IRT Pipeline ------------------\n",
    "    subjects = normalized_df.shape[1]  # number of models/respondents\n",
    "    items = normalized_df.shape[0]  # number of users/items\n",
    "\n",
    "    # Initialize and run Beta3\n",
    "    b4 = Beta3(\n",
    "        learning_rate=10,\n",
    "        epochs=5000,\n",
    "        n_respondents=subjects,\n",
    "        n_items=items,\n",
    "        n_workers=-1,\n",
    "        random_seed=1,\n",
    "    )\n",
    "\n",
    "    print(f\"Fitting Beta3 model for '{target_genre}'...\")\n",
    "    b4.fit(normalized_df.values)\n",
    "    print(f\"Model fitting complete for '{target_genre}'.\")\n",
    "\n",
    "    loss = loss_function(b4, normalized_df)\n",
    "    print(f\"Final loss for '{target_genre}': {loss}\")\n",
    "\n",
    "    # ------------------ 8) Load and Merge User Data ------------------\n",
    "    user_ids_ordered = user_ids_array.tolist()  # Extract user IDs in order\n",
    "    user_info = pd.read_csv(os.path.abspath(\"../data/user_info_existing.csv\"))  # Ensure this file contains `user_id, gender`\n",
    "    #gender_map = {\"M\": 0, \"F\": 1}\n",
    "    #user_info[\"gender\"] = user_info[\"gender\"].map(gender_map)\n",
    "\n",
    "    user_beta3_results = pd.DataFrame({\n",
    "        \"user_id\": user_ids_ordered,\n",
    "        \"discrimination\": b4.discriminations,\n",
    "        \"difficulty\": b4.difficulties\n",
    "    })\n",
    "\n",
    "    merged_df = user_beta3_results.merge(user_info, on=\"user_id\", how=\"left\")\n",
    "\n",
    "    # ------------------ 9) Plot Results ------------------\n",
    "    disc_values = np.array(merged_df[\"discrimination\"])\n",
    "    difficulty_values = np.array(merged_df[\"difficulty\"])\n",
    "    user_genders = np.array(merged_df[\"gender\"])\n",
    "    colors = np.where(user_genders == 0, \"red\", \"blue\")  # Male = Red, Female = Blue\n",
    "\n",
    "    plt.figure(figsize=(12, 7))\n",
    "    plt.scatter(disc_values, difficulty_values, c=colors, alpha=0.7)\n",
    "    plt.title(f\"Discrimination vs. Difficulty ({target_genre.capitalize()}, Colored by Gender)\")\n",
    "    plt.xlabel(\"Discrimination\")\n",
    "    plt.ylabel(\"Difficulty\")\n",
    "    plt.grid(alpha=0.3)\n",
    "\n",
    "    import matplotlib.patches as mpatches\n",
    "    red_patch = mpatches.Patch(color=\"red\", label=\"Male\")\n",
    "    blue_patch = mpatches.Patch(color=\"blue\", label=\"Female\")\n",
    "    plt.legend(handles=[red_patch, blue_patch])\n",
    "\n",
    "    output_plot_path = os.path.join(output_plot_dir, f\"discrimination_difficulty_plot_{target_genre}.png\")\n",
    "    plt.savefig(output_plot_path, dpi=300, bbox_inches=\"tight\")\n",
    "    plt.close()\n",
    "\n",
    "    # ------------------ 10) Save Merged Data ------------------\n",
    "    output_csv_path = os.path.join(output_csv_dir, f\"genre_user_info_merged_{target_genre}.csv\")\n",
    "    merged_df.to_csv(output_csv_path, index=False)\n",
    "\n",
    "    output_ability_path = os.path.join(output_ability_dir, f\"ability_{target_genre}.csv\")\n",
    "\n",
    "    df_abilities = pd.DataFrame(b4.abilities)  # Convert NumPy array to DataFrame\n",
    "    df_abilities.to_csv(output_ability_path, index=False)\n",
    "\n",
    "    \n",
    "\n",
    "    print(f\"✅ Processed '{target_genre}': Plot saved at {output_plot_path}, Data saved at {output_csv_path}\")\n",
    "\n",
    "  \n",
    "\n",
    "print(\"\\n🎉 All genres processed successfully!\")\n"
   ]
  },
  {
   "cell_type": "code",
   "execution_count": null,
   "id": "a071f17c-ca78-405d-afa9-68cebffe868a",
   "metadata": {},
   "outputs": [],
   "source": []
  }
 ],
 "metadata": {
  "kernelspec": {
   "display_name": "Python 3 (ipykernel)",
   "language": "python",
   "name": "python3"
  },
  "language_info": {
   "codemirror_mode": {
    "name": "ipython",
    "version": 3
   },
   "file_extension": ".py",
   "mimetype": "text/x-python",
   "name": "python",
   "nbconvert_exporter": "python",
   "pygments_lexer": "ipython3",
   "version": "3.11.7"
  }
 },
 "nbformat": 4,
 "nbformat_minor": 5
}
