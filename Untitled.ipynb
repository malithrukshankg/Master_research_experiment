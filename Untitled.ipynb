{
 "cells": [
  {
   "cell_type": "code",
   "execution_count": 4,
   "id": "d2a6248b-fc71-415a-ab86-8c772a583cb5",
   "metadata": {},
   "outputs": [
    {
     "name": "stdout",
     "output_type": "stream",
     "text": [
      "Merged CSV saved at: D:/master_reserch/data/algo_wise/run_2\\merged_genre_user_info.csv\n"
     ]
    }
   ],
   "source": [
    "import os\n",
    "import pandas as pd\n",
    "\n",
    "# Set the root directory where the algorithm folders are stored\n",
    "root_dir = \"D:/master_reserch/data/algo_wise/run_2\"\n",
    "\n",
    "# List of algorithm directories\n",
    "algo_dirs = [\"algo_1\", \"algo_2\", \"CKE\", \"KGAT\", \"KGCN\", \"KGIN\", \"NCFKG\"]\n",
    "\n",
    "# Initialize an empty DataFrame for merging\n",
    "merged_df = None\n",
    "\n",
    "# Iterate through each algorithm directory\n",
    "for algo in algo_dirs:\n",
    "    csv_path = os.path.join(root_dir, algo, \"genre_user_info\")\n",
    "    \n",
    "    # Find the CSV file inside genre_user_info\n",
    "    for file in os.listdir(csv_path):\n",
    "        if file.endswith(\".csv\"):\n",
    "            file_path = os.path.join(csv_path, file)\n",
    "            df = pd.read_csv(file_path)\n",
    "\n",
    "            # Rename discrimination and difficulty columns to include algorithm name\n",
    "            df = df.rename(columns={\n",
    "                \"discrimination\": f\"discrimination_{algo}\",\n",
    "                \"difficulty\": f\"difficulty_{algo}\"\n",
    "            })\n",
    "\n",
    "            # If merged_df is empty, initialize it with the first dataset (including all columns)\n",
    "            if merged_df is None:\n",
    "                merged_df = df\n",
    "            else:\n",
    "                # Merge based on user_id, keeping existing columns (gender, occupation, zip_code, age)\n",
    "                merged_df = pd.merge(merged_df, df[[\"user_id\", f\"discrimination_{algo}\", f\"difficulty_{algo}\"]],\n",
    "                                     on=\"user_id\", how=\"outer\")\n",
    "\n",
    "# Save the merged file\n",
    "output_path = os.path.join(root_dir, \"merged_genre_user_info.csv\")\n",
    "merged_df.to_csv(output_path, index=False)\n",
    "\n",
    "print(f\"Merged CSV saved at: {output_path}\")\n"
   ]
  },
  {
   "cell_type": "code",
   "execution_count": null,
   "id": "6b6646ef-6844-45f0-a48b-c204a0ddea8f",
   "metadata": {},
   "outputs": [],
   "source": []
  }
 ],
 "metadata": {
  "kernelspec": {
   "display_name": "Python 3 (ipykernel)",
   "language": "python",
   "name": "python3"
  },
  "language_info": {
   "codemirror_mode": {
    "name": "ipython",
    "version": 3
   },
   "file_extension": ".py",
   "mimetype": "text/x-python",
   "name": "python",
   "nbconvert_exporter": "python",
   "pygments_lexer": "ipython3",
   "version": "3.11.7"
  }
 },
 "nbformat": 4,
 "nbformat_minor": 5
}
