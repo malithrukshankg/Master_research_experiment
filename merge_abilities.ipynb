{
 "cells": [
  {
   "cell_type": "code",
   "execution_count": 1,
   "id": "82f93a4a-ea55-4e36-915f-b104b8d45809",
   "metadata": {},
   "outputs": [
    {
     "name": "stdout",
     "output_type": "stream",
     "text": [
      "Merged CSV saved to: D:\\master_reserch\\data\\algo_wise\\run_1_version2\\merged_abilities.csv\n"
     ]
    }
   ],
   "source": [
    "import os\n",
    "import pandas as pd\n",
    "\n",
    "# Root folder that contains subfolders: CKE, KGAT, KGCN, KGIN, NCFKG, Random, Random_2\n",
    "root_folder = r\"D:\\master_reserch\\data\\algo_wise\\run_1_version2\"\n",
    "\n",
    "# List of algorithm folder names\n",
    "algos = [\"CKE\", \"KGAT\", \"KGCN\", \"KGIN\", \"NCFKG\", \"Random\", \"Random_2\"]\n",
    "\n",
    "# We will store individual dataframes here\n",
    "dfs = []\n",
    "\n",
    "for algo in algos:\n",
    "    # Path to the CSV inside the \"abilities\" subfolder\n",
    "    csv_path = os.path.join(root_folder, algo, \"abilityies\", \"ability_selected.csv\")\n",
    "    \n",
    "    # Read the CSV. \n",
    "    # - If your CSV has no header, you might use `header=None`.\n",
    "    # - If your CSV has a header row, remove 'header=None' or set it appropriately.\n",
    "    df = pd.read_csv(csv_path, header=None)\n",
    "    \n",
    "    # Rename the single column (or first column) to the algorithm's name\n",
    "    # If your CSV has multiple columns, you might need to select one column, e.g. df.iloc[:, 0]\n",
    "    df.columns = [algo]\n",
    "    \n",
    "    # Add this dataframe to our list\n",
    "    dfs.append(df)\n",
    "\n",
    "# Merge them all side by side (axis=1 means columns side by side)\n",
    "merged_df = pd.concat(dfs, axis=1)\n",
    "\n",
    "# Save the merged data to a new CSV\n",
    "output_path = os.path.join(root_folder, \"merged_abilities.csv\")\n",
    "merged_df.to_csv(output_path, index=False)\n",
    "\n",
    "print(f\"Merged CSV saved to: {output_path}\")\n"
   ]
  },
  {
   "cell_type": "code",
   "execution_count": null,
   "id": "26b12d55-b78a-48c5-93a1-63e63a17bc31",
   "metadata": {},
   "outputs": [],
   "source": []
  }
 ],
 "metadata": {
  "kernelspec": {
   "display_name": "Python 3 (ipykernel)",
   "language": "python",
   "name": "python3"
  },
  "language_info": {
   "codemirror_mode": {
    "name": "ipython",
    "version": 3
   },
   "file_extension": ".py",
   "mimetype": "text/x-python",
   "name": "python",
   "nbconvert_exporter": "python",
   "pygments_lexer": "ipython3",
   "version": "3.11.7"
  }
 },
 "nbformat": 4,
 "nbformat_minor": 5
}
